# Análisis de Red de Tiendas - RetailNow
# Proyecto: Data Analytics Training - Python intermedio e introducción a Pandas

# Importar librerías necesarias
import pandas as pd
import numpy as np

# Configuración para mostrar todas las columnas en los DataFrames
pd.set_option('display.max_columns', None)
pd.set_option('display.width', 1000)

print("=== ANÁLISIS DE DATOS DE RETAILNOW ===")
print("Cargando y procesando datos...")
print()

# 1. CARGAR Y LIMPIAR LOS DATOS
# Cargar los datos desde los archivos CSV
try:
    ventas_df = pd.read_csv('/workspace/ventas.csv')
    inventarios_df = pd.read_csv('/workspace/inventarios.csv')
    satisfaccion_df = pd.read_csv('/workspace/satisfaccion.csv')
    
    print("✅ Datos cargados exitosamente")
    print(f"Ventas: {ventas_df.shape[0]} registros, {ventas_df.shape[1]} columnas")
    print(f"Inventarios: {inventarios_df.shape[0]} registros, {inventarios_df.shape[1]} columnas")
    print(f"Satisfacción: {satisfaccion_df.shape[0]} registros, {satisfaccion_df.shape[1]} columnas")
    print()
    
except FileNotFoundError as e:
    print(f"❌ Error: {e}")
    print("Por favor, verifica que los archivos CSV estén en la ruta correcta")
    exit()

# Limpiar datos eliminando filas con valores nulos
ventas_df_clean = ventas_df.dropna()
inventarios_df_clean = inventarios_df.dropna()
satisfaccion_df_clean = satisfaccion_df.dropna()

print("✅ Datos limpiados (eliminadas filas con valores nulos)")
print(f"Ventas después de limpieza: {ventas_df_clean.shape[0]} registros")
print(f"Inventarios después de limpieza: {inventarios_df_clean.shape[0]} registros")
print(f"Satisfacción después de limpieza: {satisfaccion_df_clean.shape[0]} registros")
print()

# Mostrar información básica de los DataFrames
print("=== ESTRUCTURA DE LOS DATOS ===")
print("📊 Datos de Ventas:")
print(ventas_df_clean.info())
print()
print("📦 Datos de Inventarios:")
print(inventarios_df_clean.info())
print()
print("😊 Datos de Satisfacción:")
print(satisfaccion_df_clean.info())
print()

# 2. ANÁLISIS DE VENTAS
print("=== ANÁLISIS DE VENTAS ===")

# Calcular ingresos totales por tienda (si existe cantidad vendida y precio unitario)
if 'Cantidad_Vendida' in ventas_df_clean.columns and 'Precio_Unitario' in ventas_df_clean.columns:
    ventas_df_clean['Ingresos'] = ventas_df_clean['Cantidad_Vendida'] * ventas_df_clean['Precio_Unitario']
    ventas_por_tienda = ventas_df_clean.groupby('ID_Tienda')['Ingresos'].sum().reset_index()
    ventas_por_tienda.columns = ['ID_Tienda', 'Ventas_Totales']
    print("📈 Ventas totales por tienda:")
    print(ventas_por_tienda)
    print()
else:
    # Si no existen las columnas esperadas, usar una columna existente
    columna_ventas = None
    for col in ['Ventas', 'Total_Ventas', 'Ingresos']:
        if col in ventas_df_clean.columns:
            columna_ventas = col
            break
    
    if columna_ventas:
        ventas_por_tienda = ventas_df_clean.groupby('ID_Tienda')[columna_ventas].sum().reset_index()
        ventas_por_tienda.columns = ['ID_Tienda', 'Ventas_Totales']
        print("📈 Ventas totales por tienda:")
        print(ventas_por_tienda)
    else:
        print("❌ No se encontraron columnas relacionadas con ventas en el dataset")
    print()

# Resumen estadístico de ventas
if 'Ventas_Totales' in locals():
    print("📋 Resumen estadístico de ventas:")
    print(ventas_por_tienda['Ventas_Totales'].describe())
    print()

# 3. ANÁLISIS DE INVENTARIOS
print("=== ANÁLISIS DE INVENTARIOS ===")

# Calcular rotación de inventarios (si existen los campos necesarios)
if 'Stock_Disponible' in inventarios_df_clean.columns and 'ID_Tienda' in inventarios_df_clean.columns:
    # Unir datos de ventas e inventarios para calcular rotación
    inventarios_con_ventas = inventarios_df_clean.merge(ventas_por_tienda, on='ID_Tienda', how='left')
    
    # Calcular rotación (ventas / stock)
    inventarios_con_ventas['Rotacion_Inventarios'] = inventarios_con_ventas['Ventas_Totales'] / inventarios_con_ventas['Stock_Disponible']
    
    # Identificar tiendas con inventarios críticos (<10% de rotación)
    inventarios_criticos = inventarios_con_ventas[inventarios_con_ventas['Rotacion_Inventarios'] < 0.1]
    
    print("🔄 Rotación de inventarios por tienda:")
    print(inventarios_con_ventas[['ID_Tienda', 'Stock_Disponible', 'Ventas_Totales', 'Rotacion_Inventarios']])
    print()
    
    print("⚠️ Tiendas con niveles críticos de inventario (rotación < 10%):")
    if not inventarios_criticos.empty:
        print(inventarios_criticos[['ID_Tienda', 'Stock_Disponible', 'Ventas_Totales', 'Rotacion_Inventarios']])
    else:
        print("No hay tiendas con niveles críticos de inventario")
    print()
else:
    print("❌ No se encontraron las columnas necesarias para el análisis de inventarios")
    print("Columnas disponibles en inventarios:", inventarios_df_clean.columns.tolist())
    print()

# 4. ANÁLISIS DE SATISFACCIÓN DEL CLIENTE
print("=== ANÁLISIS DE SATISFACCIÓN DEL CLIENTE ===")

if 'Satisfaccion' in satisfaccion_df_clean.columns and 'ID_Tienda' in satisfaccion_df_clean.columns:
    # Calcular satisfacción promedio por tienda
    satisfaccion_por_tienda = satisfaccion_df_clean.groupby('ID_Tienda')['Satisfaccion'].mean().reset_index()
    satisfaccion_por_tienda.columns = ['ID_Tienda', 'Satisfaccion_Promedio']
    
    print("😊 Satisfacción promedio por tienda:")
    print(satisfaccion_por_tienda)
    print()
    
    # Identificar tiendas con baja satisfacción (<60%)
    baja_satisfaccion = satisfaccion_por_tienda[satisfaccion_por_tienda['Satisfaccion_Promedio'] < 60]
    
    print("🔻 Tiendas con baja satisfacción del cliente (<60%):")
    if not baja_satisfaccion.empty:
        print(baja_satisfaccion)
        
        # Recomendaciones para tiendas con baja satisfacción
        print("\n💡 Recomendaciones para mejorar la satisfacción:")
        print("- Capacitar al personal en servicio al cliente")
        print("- Mejorar la calidad de los productos")
        print("- Reducir tiempos de espera en checkout")
        print("- Implementar programas de fidelización")
    else:
        print("No hay tiendas con baja satisfacción del cliente")
    print()
else:
    print("❌ No se encontraron las columnas necesarias para el análisis de satisfacción")
    print("Columnas disponibles en satisfacción:", satisfaccion_df_clean.columns.tolist())
    print()

# 5. CÁLCULOS ESTADÍSTICOS CON NUMPY
print("=== CÁLCULOS ESTADÍSTICOS CON NUMPY ===")

if 'Ventas_Totales' in locals():
    # Convertir la columna de ventas totales a un array de NumPy
    ventas_totales_array = ventas_por_tienda['Ventas_Totales'].to_numpy()
    
    # Calcular mediana y desviación estándar
    mediana_ventas = np.median(ventas_totales_array)
    desviacion_ventas = np.std(ventas_totales_array)
    
    print(f"📊 Mediana de ventas totales: {mediana_ventas:.2f}")
    print(f"📈 Desviación estándar de ventas totales: {desviacion_ventas:.2f}")
    print()
else:
    print("❌ No se pueden calcular estadísticas: no hay datos de ventas disponibles")
    print()

# 6. SIMULACIÓN DE PROYECCIONES DE VENTAS FUTURAS
print("=== PROYECCIONES DE VENTAS FUTURAS ===")

if 'Ventas_Totales' in locals():
    # Establecer semilla para reproducibilidad
    np.random.seed(42)
    
    # Simular proyecciones de ventas para el próximo año
    # Basado en las ventas actuales con una variación del ±20%
    n_simulaciones = 1000
    proyecciones = np.zeros((len(ventas_totales_array), n_simulaciones))
    
    for i, venta_actual in enumerate(ventas_totales_array):
        # Generar proyecciones con distribución normal
        proyecciones[i] = np.random.normal(
            loc=venta_actual * 1.1,  # Crecimiento esperado del 10%
            scale=venta_actual * 0.2,  # Desviación del 20%
            size=n_simulaciones
        )
    
    # Calcular estadísticas de las proyecciones
    proyecciones_medias = np.mean(proyecciones, axis=1)
    proyecciones_min = np.min(proyecciones, axis=1)
    proyecciones_max = np.max(proyecciones, axis=1)
    
    print("🔮 Proyecciones de ventas para el próximo año:")
    for i, tienda in enumerate(ventas_por_tienda['ID_Tienda']):
        print(f"Tienda {tienda}:")
        print(f"  Ventas actuales: {ventas_totales_array[i]:.2f}")
        print(f"  Proyección media: {proyecciones_medias[i]:.2f}")
        print(f"  Rango probable: [{proyecciones_min[i]:.2f}, {proyecciones_max[i]:.2f}]")
        print()
    
    # Crecimiento promedio esperado
    crecimiento_promedio = ((np.mean(proyecciones_medias) / np.mean(ventas_totales_array)) - 1) * 100
    print(f"📈 Crecimiento promedio esperado: {crecimiento_promedio:.2f}%")
else:
    print("❌ No se pueden generar proyecciones: no hay datos de ventas disponibles")
    print()

print("=== ANÁLISIS COMPLETADO ===")
